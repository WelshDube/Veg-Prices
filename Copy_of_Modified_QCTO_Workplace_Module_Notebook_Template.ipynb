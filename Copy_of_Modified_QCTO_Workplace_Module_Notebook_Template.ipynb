{
  "cells": [
    {
      "cell_type": "markdown",
      "metadata": {
        "id": "bfDu9qK30JQu"
      },
      "source": [
        "# QCTO - Workplace Module\n",
        "\n",
        "### Project Title: Prices\n",
        "#### Done By: Welsh Dube\n",
        "\n",
        "© ExploreAI 2024\n",
        "\n",
        "---\n",
        "\n",
        "## Table of Contents\n",
        "\n",
        "<a href=#BC> Background Context</a>\n",
        "\n",
        "<a href=#one>1. Importing Packages</a>\n",
        "\n",
        "<a href=#two>2. Data Collection and Description</a>\n",
        "\n",
        "<a href=#three>3. Loading Data </a>\n",
        "\n",
        "<a href=#four>4. Data Cleaning and Filtering</a>\n",
        "\n",
        "<a href=#five>5. Exploratory Data Analysis (EDA)</a>\n",
        "\n",
        "<a href=#six>6. Modeling </a>\n",
        "\n",
        "<a href=#seven>7. Evaluation and Validation</a>\n",
        "\n",
        "<a href=#eight>8. Final Model</a>\n",
        "\n",
        "<a href=#nine>9. Conclusion and Future Work</a>\n",
        "\n",
        "<a href=#ten>10. References</a>"
      ]
    },
    {
      "cell_type": "markdown",
      "metadata": {
        "id": "Fa2sjNet0JQv"
      },
      "source": [
        "---\n",
        " <a id=\"BC\"></a>\n",
        "## **Background Context**\n",
        "<a href=#cont>Back to Table of Contents</a>\n",
        "\n",
        "### **Background Context**\n",
        "\n",
        "#### **Purpose:**\n",
        "This project aims to explore and analyze the historical pricing of vegetables across different regions in India. The goal is to understand price variations over time, evaluate market trends, and build predictive models to forecast future price movements. By examining the data, the project intends to provide insights that can help farmers, vendors, and consumers make informed decisions about buying, selling, and stockpiling vegetables.\n",
        "\n",
        "#### **Details:**\n",
        "The vegetable market in India experiences significant volatility due to factors like seasonal changes, supply chain disruptions, regional demand, and weather conditions. These fluctuations can impact the livelihoods of farmers and influence the prices faced by consumers. The dataset provided offers a comprehensive view of the prices of key vegetables, such as brinjal, onion, tomato, and others, over time.\n",
        "\n",
        "The project aims to address several critical questions:\n",
        "- **Seasonal Impact**: How do different seasons influence vegetable prices?\n",
        "- **Supply and Demand**: What role do supply chain disruptions or surges in demand play in the price variations?\n",
        "- **Time Series Analysis**: Can we predict future price trends based on past data?\n",
        "\n",
        "Understanding these factors will help create models for price prediction and allow stakeholders to better anticipate market changes. This analysis can be leveraged for future market stability, improve supply chain decisions, and ensure fair pricing for consumers.\n",
        "\n",
        "---"
      ]
    },
    {
      "cell_type": "markdown",
      "source": [
        "View the Link to Github:\n",
        "\n",
        "*  [Click here to view the project repo](https://github.com/WelshDube/Veg-Prices.git)\n",
        "\n",
        "\n",
        "View the Link to the Trello board"
      ],
      "metadata": {
        "id": "CV8Bfn1W1Rh5"
      }
    },
    {
      "cell_type": "code",
      "source": [],
      "metadata": {
        "id": "4UViDjtZ1ObM"
      },
      "execution_count": null,
      "outputs": []
    },
    {
      "cell_type": "markdown",
      "source": [],
      "metadata": {
        "id": "8i4qQ9bU7P6P"
      }
    },
    {
      "cell_type": "markdown",
      "metadata": {
        "id": "dU6Tc66t0JQw"
      },
      "source": [
        "---\n",
        "<a href=#one></a>\n",
        "## **Importing Packages**\n",
        "<a href=#cont>Back to Table of Contents</a>\n",
        "\n",
        "* **Purpose:** Set up the Python environment with necessary libraries and tools.\n",
        "* **Details:** List and import all the Python packages that will be used throughout the project such as Pandas for data manipulation, Matplotlib/Seaborn for visualization, scikit-learn for modeling, etc.\n",
        "---"
      ]
    },
    {
      "cell_type": "code",
      "execution_count": null,
      "metadata": {
        "id": "6NIZkwp50JQw"
      },
      "outputs": [],
      "source": [
        "# Importing necessary libraries\n",
        "import pandas as pd\n",
        "import numpy as np\n",
        "from sklearn.model_selection import train_test_split\n",
        "from sklearn.linear_model import LinearRegression\n",
        "from sklearn.metrics import mean_squared_error, r2_score\n",
        "import matplotlib.pyplot as plt\n",
        "import seaborn as sns"
      ]
    },
    {
      "cell_type": "markdown",
      "metadata": {
        "id": "kKigj_YL0JQx"
      },
      "source": [
        "---\n",
        "<a href=#two></a>\n",
        "## **Data Collection and Description**\n",
        "<a href=#cont>Back to Table of Contents</a>\n",
        "\n",
        "* **Purpose:** Describe how the data was collected and provide an overview of its characteristics.\n",
        "* **Details:** Mention sources of the data, the methods used for collection (e.g., APIs, web scraping, datasets from repositories), and a general description of the dataset including size, scope, and types of data available (e.g., numerical, categorical).\n",
        "---"
      ]
    },
    {
      "cell_type": "code",
      "execution_count": null,
      "metadata": {
        "id": "e6p83ruY0JQx",
        "colab": {
          "base_uri": "https://localhost:8080/",
          "height": 742
        },
        "outputId": "e8a7c56c-fbca-4604-80c5-b3caac52f41a"
      },
      "outputs": [
        {
          "output_type": "stream",
          "name": "stdout",
          "text": [
            "<class 'pandas.core.frame.DataFrame'>\n",
            "RangeIndex: 287 entries, 0 to 286\n",
            "Data columns (total 11 columns):\n",
            " #   Column                  Non-Null Count  Dtype  \n",
            "---  ------                  --------------  -----  \n",
            " 0   Price Dates             287 non-null    object \n",
            " 1   Bhindi (Ladies finger)  287 non-null    float64\n",
            " 2   Tomato                  287 non-null    int64  \n",
            " 3   Onion                   287 non-null    float64\n",
            " 4   Potato                  287 non-null    int64  \n",
            " 5   Brinjal                 287 non-null    int64  \n",
            " 6   Garlic                  287 non-null    int64  \n",
            " 7   Peas                    287 non-null    int64  \n",
            " 8   Methi                   287 non-null    int64  \n",
            " 9   Green Chilli            287 non-null    float64\n",
            " 10  Elephant Yam (Suran)    287 non-null    int64  \n",
            "dtypes: float64(3), int64(7), object(1)\n",
            "memory usage: 24.8+ KB\n"
          ]
        },
        {
          "output_type": "execute_result",
          "data": {
            "text/plain": [
              "Price Dates               0\n",
              "Bhindi (Ladies finger)    0\n",
              "Tomato                    0\n",
              "Onion                     0\n",
              "Potato                    0\n",
              "Brinjal                   0\n",
              "Garlic                    0\n",
              "Peas                      0\n",
              "Methi                     0\n",
              "Green Chilli              0\n",
              "Elephant Yam (Suran)      0\n",
              "dtype: int64"
            ],
            "text/html": [
              "<div>\n",
              "<style scoped>\n",
              "    .dataframe tbody tr th:only-of-type {\n",
              "        vertical-align: middle;\n",
              "    }\n",
              "\n",
              "    .dataframe tbody tr th {\n",
              "        vertical-align: top;\n",
              "    }\n",
              "\n",
              "    .dataframe thead th {\n",
              "        text-align: right;\n",
              "    }\n",
              "</style>\n",
              "<table border=\"1\" class=\"dataframe\">\n",
              "  <thead>\n",
              "    <tr style=\"text-align: right;\">\n",
              "      <th></th>\n",
              "      <th>0</th>\n",
              "    </tr>\n",
              "  </thead>\n",
              "  <tbody>\n",
              "    <tr>\n",
              "      <th>Price Dates</th>\n",
              "      <td>0</td>\n",
              "    </tr>\n",
              "    <tr>\n",
              "      <th>Bhindi (Ladies finger)</th>\n",
              "      <td>0</td>\n",
              "    </tr>\n",
              "    <tr>\n",
              "      <th>Tomato</th>\n",
              "      <td>0</td>\n",
              "    </tr>\n",
              "    <tr>\n",
              "      <th>Onion</th>\n",
              "      <td>0</td>\n",
              "    </tr>\n",
              "    <tr>\n",
              "      <th>Potato</th>\n",
              "      <td>0</td>\n",
              "    </tr>\n",
              "    <tr>\n",
              "      <th>Brinjal</th>\n",
              "      <td>0</td>\n",
              "    </tr>\n",
              "    <tr>\n",
              "      <th>Garlic</th>\n",
              "      <td>0</td>\n",
              "    </tr>\n",
              "    <tr>\n",
              "      <th>Peas</th>\n",
              "      <td>0</td>\n",
              "    </tr>\n",
              "    <tr>\n",
              "      <th>Methi</th>\n",
              "      <td>0</td>\n",
              "    </tr>\n",
              "    <tr>\n",
              "      <th>Green Chilli</th>\n",
              "      <td>0</td>\n",
              "    </tr>\n",
              "    <tr>\n",
              "      <th>Elephant Yam (Suran)</th>\n",
              "      <td>0</td>\n",
              "    </tr>\n",
              "  </tbody>\n",
              "</table>\n",
              "</div><br><label><b>dtype:</b> int64</label>"
            ]
          },
          "metadata": {},
          "execution_count": 2
        }
      ],
      "source": [
        "# Load the dataset\n",
        "df = pd.read_csv('prices.csv')\n",
        "\n",
        "# View the first few rows\n",
        "df.head()\n",
        "\n",
        "# Display dataset information\n",
        "df.info()\n",
        "\n",
        "# Checking for missing values\n",
        "df.isnull().sum()\n"
      ]
    },
    {
      "cell_type": "markdown",
      "metadata": {
        "id": "uZvWXcEd0JQy"
      },
      "source": [
        "---\n",
        "<a href=#three></a>\n",
        "## **Loading Data**\n",
        "<a href=#cont>Back to Table of Contents</a>\n",
        "\n",
        "* **Purpose:** Load the data into the notebook for manipulation and analysis.\n",
        "* **Details:** Show the code used to load the data and display the first few rows to give a sense of what the raw data looks like.\n",
        "---"
      ]
    },
    {
      "cell_type": "code",
      "execution_count": null,
      "metadata": {
        "id": "uGb3mOWn0JQy",
        "colab": {
          "base_uri": "https://localhost:8080/",
          "height": 429
        },
        "outputId": "1bde3ab3-c149-4b6a-8c31-2292b8dfe56a"
      },
      "outputs": [
        {
          "output_type": "execute_result",
          "data": {
            "text/plain": [
              "Price Dates                object\n",
              "Bhindi (Ladies finger)    float64\n",
              "Tomato                      int64\n",
              "Onion                     float64\n",
              "Potato                      int64\n",
              "Brinjal                     int64\n",
              "Garlic                      int64\n",
              "Peas                        int64\n",
              "Methi                       int64\n",
              "Green Chilli              float64\n",
              "Elephant Yam (Suran)        int64\n",
              "dtype: object"
            ],
            "text/html": [
              "<div>\n",
              "<style scoped>\n",
              "    .dataframe tbody tr th:only-of-type {\n",
              "        vertical-align: middle;\n",
              "    }\n",
              "\n",
              "    .dataframe tbody tr th {\n",
              "        vertical-align: top;\n",
              "    }\n",
              "\n",
              "    .dataframe thead th {\n",
              "        text-align: right;\n",
              "    }\n",
              "</style>\n",
              "<table border=\"1\" class=\"dataframe\">\n",
              "  <thead>\n",
              "    <tr style=\"text-align: right;\">\n",
              "      <th></th>\n",
              "      <th>0</th>\n",
              "    </tr>\n",
              "  </thead>\n",
              "  <tbody>\n",
              "    <tr>\n",
              "      <th>Price Dates</th>\n",
              "      <td>object</td>\n",
              "    </tr>\n",
              "    <tr>\n",
              "      <th>Bhindi (Ladies finger)</th>\n",
              "      <td>float64</td>\n",
              "    </tr>\n",
              "    <tr>\n",
              "      <th>Tomato</th>\n",
              "      <td>int64</td>\n",
              "    </tr>\n",
              "    <tr>\n",
              "      <th>Onion</th>\n",
              "      <td>float64</td>\n",
              "    </tr>\n",
              "    <tr>\n",
              "      <th>Potato</th>\n",
              "      <td>int64</td>\n",
              "    </tr>\n",
              "    <tr>\n",
              "      <th>Brinjal</th>\n",
              "      <td>int64</td>\n",
              "    </tr>\n",
              "    <tr>\n",
              "      <th>Garlic</th>\n",
              "      <td>int64</td>\n",
              "    </tr>\n",
              "    <tr>\n",
              "      <th>Peas</th>\n",
              "      <td>int64</td>\n",
              "    </tr>\n",
              "    <tr>\n",
              "      <th>Methi</th>\n",
              "      <td>int64</td>\n",
              "    </tr>\n",
              "    <tr>\n",
              "      <th>Green Chilli</th>\n",
              "      <td>float64</td>\n",
              "    </tr>\n",
              "    <tr>\n",
              "      <th>Elephant Yam (Suran)</th>\n",
              "      <td>int64</td>\n",
              "    </tr>\n",
              "  </tbody>\n",
              "</table>\n",
              "</div><br><label><b>dtype:</b> object</label>"
            ]
          },
          "metadata": {},
          "execution_count": 3
        }
      ],
      "source": [
        "# Summary statistics of the data\n",
        "df.describe()\n",
        "\n",
        "# Check the columns and their data types\n",
        "df.dtypes\n"
      ]
    },
    {
      "cell_type": "code",
      "source": [
        "# Print the column names\n",
        "print(df_cleaned.columns)\n"
      ],
      "metadata": {
        "colab": {
          "base_uri": "https://localhost:8080/"
        },
        "id": "8apURFtg5iwK",
        "outputId": "90642c10-36b0-4daf-cea1-2ab6e1828b65"
      },
      "execution_count": null,
      "outputs": [
        {
          "output_type": "stream",
          "name": "stdout",
          "text": [
            "Index(['Price Dates', 'Bhindi (Ladies finger)', 'Tomato', 'Onion', 'Potato',\n",
            "       'Brinjal', 'Garlic', 'Peas', 'Methi', 'Green Chilli',\n",
            "       'Elephant Yam (Suran)'],\n",
            "      dtype='object')\n"
          ]
        }
      ]
    },
    {
      "cell_type": "code",
      "source": [
        "# Check for duplicates\n",
        "duplicates = df.duplicated()\n",
        "print(f\"Number of duplicate rows: {duplicates.sum()}\")\n",
        "\n",
        "# If you want to view the actual duplicate rows\n",
        "duplicate_rows = df[df.duplicated()]\n",
        "print(duplicate_rows)"
      ],
      "metadata": {
        "colab": {
          "base_uri": "https://localhost:8080/"
        },
        "id": "OEmtP2yH6XEt",
        "outputId": "b846a595-aaf9-46d7-a762-342ff7eec1ad"
      },
      "execution_count": null,
      "outputs": [
        {
          "output_type": "stream",
          "name": "stdout",
          "text": [
            "Number of duplicate rows: 0\n",
            "Empty DataFrame\n",
            "Columns: [Price Dates, Bhindi (Ladies finger), Tomato, Onion, Potato, Brinjal, Garlic, Peas, Methi, Green Chilli, Elephant Yam (Suran)]\n",
            "Index: []\n"
          ]
        }
      ]
    },
    {
      "cell_type": "markdown",
      "metadata": {
        "id": "21zU6EIB0JQy"
      },
      "source": [
        "---\n",
        "<a href=#four></a>\n",
        "## **Data Cleaning and Filtering**\n",
        "<a href=#cont>Back to Table of Contents</a>\n",
        "\n",
        "* **Purpose:** Prepare the data for analysis by cleaning and filtering.\n",
        "* **Details:** Include steps for handling missing values, removing outliers, correcting errors, and possibly reducing the data (filtering based on certain criteria or features).\n",
        "---"
      ]
    },
    {
      "cell_type": "code",
      "execution_count": null,
      "metadata": {
        "id": "ESLXne4u0JQy",
        "colab": {
          "base_uri": "https://localhost:8080/"
        },
        "outputId": "01974ad8-3037-40b9-a0cf-7518868265a5"
      },
      "outputs": [
        {
          "output_type": "stream",
          "name": "stdout",
          "text": [
            "  Price Dates  Brinjal\n",
            "0  01-01-2023       30\n",
            "1  02-01-2023       30\n",
            "2  03-01-2023       30\n",
            "3  04-01-2023       25\n",
            "4  08-01-2023       25\n"
          ]
        }
      ],
      "source": [
        "# Handle missing values (dropping rows with missing values as an example)\n",
        "df_cleaned = df.dropna()  # You can also fill missing values if needed with df.fillna()\n",
        "\n",
        "# Filter relevant columns based on the actual column names in your dataset\n",
        "df_filtered = df_cleaned[['Price Dates', 'Brinjal']]  # Add other columns as needed\n",
        "\n",
        "# View the filtered data\n",
        "print(df_filtered.head())"
      ]
    },
    {
      "cell_type": "markdown",
      "metadata": {
        "id": "6uGYI5OJ0JQy"
      },
      "source": [
        "---\n",
        "<a href=#five></a>\n",
        "## **Exploratory Data Analysis (EDA)**\n",
        "<a href=#cont>Back to Table of Contents</a>\n",
        "\n",
        "* **Purpose:** Explore and visualize the data to uncover patterns, trends, and relationships.\n",
        "* **Details:** Use statistics and visualizations to explore the data. This may include histograms, box plots, scatter plots, and correlation matrices. Discuss any significant findings.\n",
        "---\n"
      ]
    },
    {
      "cell_type": "code",
      "execution_count": null,
      "metadata": {
        "id": "XMODNzjh0JQz"
      },
      "outputs": [],
      "source": [
        "#Please use code cells to code in and do not forget to comment your code."
      ]
    },
    {
      "cell_type": "markdown",
      "metadata": {
        "id": "3bHD4IE80JQz"
      },
      "source": [
        "---\n",
        "<a href=#six></a>\n",
        "## **Modeling**\n",
        "<a href=#cont>Back to Table of Contents</a>\n",
        "\n",
        "* **Purpose:** Develop and train predictive or statistical models.\n",
        "* **Details:** Describe the choice of models, feature selection and engineering processes, and show how the models are trained. Include code for setting up the models and explanations of the model parameters.\n",
        "---\n"
      ]
    },
    {
      "cell_type": "code",
      "execution_count": null,
      "metadata": {
        "id": "E5hw4uAS0JQz"
      },
      "outputs": [],
      "source": [
        "#Please use code cells to code in and do not forget to comment your code."
      ]
    },
    {
      "cell_type": "markdown",
      "metadata": {
        "id": "syanBBb_0JQz"
      },
      "source": [
        "---\n",
        "<a href=#seven></a>\n",
        "## **Evaluation and Validation**\n",
        "<a href=#cont>Back to Table of Contents</a>\n",
        "\n",
        "* **Purpose:** Evaluate and validate the effectiveness and accuracy of the models.\n",
        "* **Details:** Present metrics used to evaluate the models, such as accuracy, precision, recall, F1-score, etc. Discuss validation techniques employed, such as cross-validation or train/test split.\n",
        "---"
      ]
    },
    {
      "cell_type": "code",
      "execution_count": null,
      "metadata": {
        "id": "eP_LW6Lg0JQz"
      },
      "outputs": [],
      "source": [
        "#Please use code cells to code in and do not forget to comment your code."
      ]
    },
    {
      "cell_type": "markdown",
      "metadata": {
        "id": "FfSCFR5E0JQ0"
      },
      "source": [
        "---\n",
        "<a href=#eight></a>\n",
        "## **Final Model**\n",
        "<a href=#cont>Back to Table of Contents</a>\n",
        "\n",
        "* **Purpose:** Present the final model and its performance.\n",
        "* **Details:** Highlight the best-performing model and discuss its configuration, performance, and why it was chosen over others.\n",
        "---\n"
      ]
    },
    {
      "cell_type": "code",
      "execution_count": null,
      "metadata": {
        "id": "12KBhn1h0JQ0"
      },
      "outputs": [],
      "source": [
        "#Please use code cells to code in and do not forget to comment your code."
      ]
    },
    {
      "cell_type": "markdown",
      "metadata": {
        "id": "utItN-OG0JQ0"
      },
      "source": [
        "---\n",
        "<a href=#nine></a>\n",
        "## **Conclusion and Future Work**\n",
        "<a href=#cont>Back to Table of Contents</a>\n",
        "\n",
        "* **Purpose:** Summarize the findings and discuss future directions.\n",
        "* **Details:** Conclude with a summary of the results, insights gained, limitations of the study, and suggestions for future projects or improvements in methodology or data collection.\n",
        "---\n"
      ]
    },
    {
      "cell_type": "code",
      "execution_count": null,
      "metadata": {
        "id": "fkPGeoMq0JQ0"
      },
      "outputs": [],
      "source": [
        "#Please use code cells to code in and do not forget to comment your code."
      ]
    },
    {
      "cell_type": "markdown",
      "metadata": {
        "id": "nK4_0sEb0JQ0"
      },
      "source": [
        "---\n",
        "<a href=#ten></a>\n",
        "## **References**\n",
        "<a href=#cont>Back to Table of Contents</a>\n",
        "\n",
        "* **Purpose:** Provide citations and sources of external content.\n",
        "* **Details:** List all the references and sources consulted during the project, including data sources, research papers, and documentation for tools and libraries used.\n",
        "---"
      ]
    },
    {
      "cell_type": "code",
      "execution_count": null,
      "metadata": {
        "id": "lPFV_PIN0JQ1"
      },
      "outputs": [],
      "source": [
        "#Please use code cells to code in and do not forget to comment your code."
      ]
    },
    {
      "cell_type": "markdown",
      "metadata": {
        "id": "Qk2PNwnL0JQ1"
      },
      "source": [
        "## Additional Sections to Consider\n",
        "\n",
        "* ### Appendix:\n",
        "For any additional code, detailed tables, or extended data visualizations that are supplementary to the main content.\n",
        "\n",
        "* ### Contributors:\n",
        "If this is a group project, list the contributors and their roles or contributions to the project.\n"
      ]
    }
  ],
  "metadata": {
    "language_info": {
      "name": "python"
    },
    "orig_nbformat": 4,
    "colab": {
      "provenance": []
    },
    "kernelspec": {
      "name": "python3",
      "display_name": "Python 3"
    }
  },
  "nbformat": 4,
  "nbformat_minor": 0
}